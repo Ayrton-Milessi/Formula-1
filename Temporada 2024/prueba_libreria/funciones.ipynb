{
 "cells": [
  {
   "cell_type": "markdown",
   "metadata": {},
   "source": [
    "### Libreria 'Fastf1'"
   ]
  },
  {
   "cell_type": "code",
   "execution_count": 23,
   "metadata": {},
   "outputs": [],
   "source": [
    "import fastf1 as f1"
   ]
  },
  {
   "cell_type": "markdown",
   "metadata": {},
   "source": [
    "### Session: objeto para acceder a datos especificos de una sesion\n",
    "* Telemetría.\n",
    "* Cronometraje."
   ]
  },
  {
   "cell_type": "code",
   "execution_count": 34,
   "metadata": {},
   "outputs": [],
   "source": [
    "# Algunos de las atributos de 'Session'\n",
    "\n",
    "# f1_api_support: La API oficial de F1 admite este evento y están disponibles datos de cronometraje de vueltas y datos de telemetría.\n",
    "\n",
    "# event: Referencia al objeto de evento asociado.\n",
    "\n",
    "# name: Nombre de esta sesión\n",
    "\n",
    "# date: Fecha en que se celebró esta sesión.\n",
    "\n",
    "# drivers: Lista de todos los conductores que participaron en esta sesión; contiene números de conductor como cadena.\n",
    "\n",
    "# results: Resultado de la sesión con información del conductor.\n",
    "\n",
    "# laps: Todas las vueltas de todos los pilotos en esta sesión.\n",
    "\n",
    "# total_laps: Número de vueltas programado originalmente para sesiones tipo carrera, como Race y Sprint.\n",
    "\n",
    "# car_data: Diccionario de telemetría del automóvil (velocidad, RPM, etc.)\n",
    "\n",
    "# pos_data: Diccionario de datos de posición del vehículo\n",
    "\n",
    "# track_status: Datos de estado de seguimiento"
   ]
  },
  {
   "cell_type": "code",
   "execution_count": null,
   "metadata": {},
   "outputs": [],
   "source": [
    "# Algunos de los metodos\n",
    "\n",
    "# load: cargar los datos de la sesion\n",
    "\n",
    "# get_driver: obtenemos los datos de un piloto\n",
    "\n",
    "# get_circuit_info: informacion adicional sobre el circuito"
   ]
  },
  {
   "cell_type": "markdown",
   "metadata": {},
   "source": [
    "### Laps: objeto para acceder a los datos de vueltas\n",
    "* Información de multiples vueltas.\n",
    "* Telemetría de las vueltas"
   ]
  },
  {
   "cell_type": "code",
   "execution_count": null,
   "metadata": {},
   "outputs": [],
   "source": [
    "# Datos que tiene el DataFrame una vuelta\n",
    "\n",
    "# Time: Hora de la sesión en la que se estableció el tiempo de vuelta (final de la vuelta)\n",
    "\n",
    "# Driver: identificador del conductor de tres letras\n",
    "\n",
    "# DriverNumber: Número del conductor\n",
    "\n",
    "# LapTime: tiempo de vuelta registrado.\n",
    "\n",
    "# LapNumber: número de vuelta registrado\n",
    "\n",
    "# Stint: Número de stint\n",
    "\n",
    "# PitOutTime: Hora de la sesión cuando el coche salió de boxes\n",
    "\n",
    "# PitInTime: Hora de la sesión cuando el coche entró en boxes\n",
    "\n",
    "# Sector1Time: Hora registrada del sector 1\n",
    "\n",
    "# Sector2Time: tiempo registrado en el Sector 2\n",
    "\n",
    "# Sector3Time: Hora registrada del Sector 3\n",
    "\n",
    "# Sector1SessionTime: Hora de la sesión cuando se estableció la hora del Sector 1\n",
    "\n",
    "# Sector2SessionTime: Hora de la sesión cuando se estableció la hora del Sector 2\n",
    "\n",
    "# Sector3SessionTime: Hora de la sesión cuando se estableció la hora del Sector 3\n",
    "\n",
    "# SpeedI1: Speedtrap sector 1 [km/h]\n",
    "\n",
    "# SpeedI2: Speedtrap sector 2 [km/h]\n",
    "\n",
    "# SpeedFL: Speedtrap en la línea de meta [km/h]\n",
    "\n",
    "# SpeedST: Speedtrap en la recta más larga (no estoy seguro) [km/h]\n",
    "\n",
    "# IsPersonalBest: Indicador que indica si esta vuelta es la mejor vuelta personal oficial de un piloto. \n",
    "# Si alguna vuelta de un piloto es más rápida que su respectiva mejor vuelta personal, esto significa que la \n",
    "# vuelta más rápida no es válida y no se contabiliza. Por ejemplo, esto puede suceder si se superaron los límites de la pista.\n",
    "\n",
    "# Compound: Nombre del compuesto específico del evento de neumáticos: SUAVE, MEDIO, DURO, INTERMEDIO, HÚMEDO \n",
    "\n",
    "# TyreLife: vueltas recorridas con este neumático (incluye vueltas en otras sesiones para juegos de neumáticos usados)\n",
    "\n",
    "# FreshTyre: el neumático tenía TyreLife=0 al inicio del período, es decir, era un neumático nuevo\n",
    "\n",
    "# Team: Nombre del equipo\n",
    "\n",
    "# LapStartTime: Tiempo de la sesión al inicio de la vuelta\n",
    "\n",
    "# LapStartDate: marca de tiempo al inicio de la vuelta\n",
    "\n",
    "# TrackStatus: cadena que contiene los números de estado de pista para todos los estados de pista que se produjeron \n",
    "# durante esta vuelta. El significado de los números de estado de pista se explica en fastf1.api.track_status_data().\n",
    "# Para filtrar vueltas por estado de pista, es posible que desee utilizar Laps.pick_track_status().\n",
    "\n",
    "# Position : posición del piloto al final de cada vuelta. Este valor es NaN para FP1, FP2, FP3, Sprint Shootout y Qualifying, así como para las vueltas de choque.\n",
    "\n",
    "# Deleted: indica que los comisarios eliminaron una vuelta, por ejemplo, debido a una infracción de los límites de la pista.\n",
    "# Estos datos solo están disponibles cuando se cargan los mensajes de control de carrera.\n",
    "\n",
    "# DeletedReason: indica el motivo de la eliminación de un tiempo de vuelta. Estos datos solo están disponibles cuando\n",
    "# se cargan los mensajes de control de carrera.\n",
    "\n",
    "# FastF1Generated: indica que esta vuelta fue agregada por FastF1. En general, una vuelta de este tipo tendrá información \n",
    "# muy limitada disponible y la información está parcialmente interpolada o basada en suposiciones razonables. Los casos \n",
    "# en los que se utiliza esto son, por ejemplo, cuando se agrega una última vuelta parcial para los pilotos que se retiraron \n",
    "# en la pista."
   ]
  },
  {
   "cell_type": "code",
   "execution_count": null,
   "metadata": {},
   "outputs": [],
   "source": [
    "# Algunos atributos\n",
    "\n",
    "# QUICKLAP_THRESHOLD: para buscar la vuelta rapida\n",
    "\n",
    "# telemetry: telemetria para las vueltas"
   ]
  },
  {
   "cell_type": "code",
   "execution_count": 35,
   "metadata": {},
   "outputs": [],
   "source": [
    "# Algunos metodos\n",
    "\n",
    "# get_telemetry: telemetria para todas las vueltas\n",
    "\n",
    "# get_car_data: datos del auto de todas las vueltas\n",
    "\n",
    "# get_pos_data: datos de la posicion en todas las vueltas\n",
    "\n",
    "# get_weather_data: datos meteorologicos de todas las vueltas\n",
    "\n",
    "# pick_lap: datos de una vuelta\n",
    "\n",
    "# pick_laps: datos de varias vueltas\n",
    "\n",
    "# pick_driver: datos de todas las vueltas de un piloto\n",
    "\n",
    "# pick_drivers: datos de todas las vueltas de varios pilotos\n",
    "\n",
    "# pick_team: datos de todas las vueltas de un equipo\n",
    "\n",
    "# pick_teams: datos de todas las vueltas de varios equipos\n",
    "\n",
    "# pick_quicklaps: datos de todas las vueltas cuyo tiempo sea más rapido que un limite\n",
    "\n",
    "# pick_tyre: numero de vueltas con X neumatico\n",
    "\n",
    "# pick_compound: todas las vueltas con uno o mas compuestos\n",
    "\n",
    "# pick_track_status: vueltas realizadas bajo un estado de la pista\n",
    "\n",
    "# iterlaps: iterar sobre varias vueltas"
   ]
  },
  {
   "cell_type": "markdown",
   "metadata": {},
   "source": [
    "### Lap: objeto para acceder a los datos de una vuelta\n",
    "* Telemetría de una vuelta."
   ]
  },
  {
   "cell_type": "code",
   "execution_count": null,
   "metadata": {},
   "outputs": [],
   "source": [
    "# Atributos del objeto\n",
    "\n",
    "# telemetry: telemetria de una vuelta"
   ]
  },
  {
   "cell_type": "code",
   "execution_count": null,
   "metadata": {},
   "outputs": [],
   "source": [
    "# Metodos del objeto\n",
    "\n",
    "# get_telemetry: telemetria para una vuelta\n",
    "\n",
    "# get_car_data: datos del auto de una vuelta\n",
    "\n",
    "# get_pos_data: datos de la posicion en una vuelta\n",
    "\n",
    "# get_weather_data: datos meteorologicos de  una vuelta"
   ]
  },
  {
   "cell_type": "markdown",
   "metadata": {},
   "source": [
    "### Telemetry: objeto que contiene varios canales de telemetria"
   ]
  },
  {
   "cell_type": "code",
   "execution_count": null,
   "metadata": {},
   "outputs": [],
   "source": [
    "# Atributos del objeto\n",
    "\n",
    "# TELEMETRY_FREQUENCY: frecuencia de los datos de telemetria\n",
    "\n",
    "# base_class_view: para la depuracion"
   ]
  },
  {
   "cell_type": "code",
   "execution_count": null,
   "metadata": {},
   "outputs": [],
   "source": [
    "# Metodos del objeto\n",
    "\n",
    "# join: combina con pandas.DataFrame.join() y propaga metadatos\n",
    "\n",
    "# merge: combina con pandas.DataFrame.merge() y propaga metadatos\n",
    "\n",
    "# slice_by_mask: corta utilizando un array booleano como máscara\n",
    "\n",
    "# slice_by_lap: corta para incluir solo los datos de las vueltas especificadas\n",
    "\n",
    "# slice_by_time: corta para incluir solo datos en un intervalo de tiempo\n",
    "\n",
    "# merge_channels: combina objetos de telemetría con diferentes canales\n",
    "\n",
    "# resample_channels: re-muestrea los datos de telemetría\n",
    "\n",
    "# fill_missing: rellena los valores faltantes\n",
    "\n",
    "# register_new_channel: registra un canal de telemetría personalizado\n",
    "\n",
    "# get_first_non_zero_time_index: obtiene el primer índice donde 'Time' no es cero\n",
    "\n",
    "# add_differential_distance: añade la columna 'DifferentialDistance'\n",
    "\n",
    "# add_distance: añade la columna 'Distance'\n",
    "\n",
    "# add_relative_distance: añade la columna 'RelativeDistance'\n",
    "\n",
    "# add_track_status: añade la columna 'TrackStatus'\n",
    "\n",
    "# add_driver_ahead: añade las columnas 'DriverAhead' y 'DistanceToDriverAhead'\n",
    "\n",
    "# calculate_differential_distance: calcula la distancia diferencial entre muestras\n",
    "\n",
    "# integrate_distance: calcula la distancia recorrida desde la primera muestra\n",
    "\n",
    "# calculate_driver_ahead: calcula el piloto adelante y la distancia hacia él"
   ]
  },
  {
   "cell_type": "markdown",
   "metadata": {},
   "source": [
    "### Results: clase que devuelve informacion sobre los conductores y resultados de la sesion. "
   ]
  },
  {
   "cell_type": "code",
   "execution_count": null,
   "metadata": {},
   "outputs": [],
   "source": [
    "# DriverNumber: número asociado al piloto en la sesión\n",
    "\n",
    "# BroadcastName: nombre del piloto para las transmisiones (inicial del primer nombre y apellido en mayúsculas)\n",
    "\n",
    "# FullName: nombre completo del piloto\n",
    "\n",
    "# Abbreviation: abreviación de tres letras del piloto\n",
    "\n",
    "# DriverId: ID del piloto utilizado por la API de Ergast\n",
    "\n",
    "# TeamName: nombre del equipo (versión corta sin patrocinadores)\n",
    "\n",
    "# TeamColor: color asociado al equipo (valor en formato hex)\n",
    "\n",
    "# TeamId: ID del constructor utilizado por la API de Ergast\n",
    "\n",
    "# FirstName: primer nombre del piloto\n",
    "\n",
    "# LastName: apellido del piloto\n",
    "\n",
    "# HeadshotUrl: URL de la foto del piloto\n",
    "\n",
    "# CountryCode: código de país del piloto\n",
    "\n",
    "# Position: posición final del piloto (solo en carreras, clasificaciones o sprints)\n",
    "\n",
    "# ClassifiedPosition: resultado oficial de clasificación del piloto (número o estado como 'R', 'D', 'E', 'W', etc.)\n",
    "\n",
    "# GridPosition: posición de salida del piloto (solo en carreras y sprints)\n",
    "\n",
    "# Q1: mejor tiempo del piloto en Q1 (solo en clasificaciones o sprints)\n",
    "\n",
    "# Q2: mejor tiempo del piloto en Q2 (solo en clasificaciones o sprints)\n",
    "\n",
    "# Q3: mejor tiempo del piloto en Q3 (solo en clasificaciones o sprints)\n",
    "\n",
    "# Time: tiempo total de carrera del piloto (solo si no terminó a más de una vuelta del líder)\n",
    "\n",
    "# Status: mensaje de estado indicando cómo terminó el piloto o causa del DNF\n",
    "\n",
    "# Points: puntos obtenidos por el piloto en base a su resultado final\n"
   ]
  },
  {
   "cell_type": "markdown",
   "metadata": {},
   "source": [
    "### CircuitInfo: contiene informacion sobre el circuito\n",
    "* Útlil para visualizar datos."
   ]
  },
  {
   "cell_type": "code",
   "execution_count": null,
   "metadata": {},
   "outputs": [],
   "source": [
    "# Algunos atributos\n",
    "\n",
    "# corners: ubicación de las curvas\n",
    "\n",
    "# marshal_lights: ubicación de las luces de los comisarios\n",
    "\n",
    "# marshal_sectors: ubicación de los sectores de los comisarios\n",
    "\n",
    "# rotation: rotación del circuito en grados\n"
   ]
  }
 ],
 "metadata": {
  "kernelspec": {
   "display_name": "Python 3",
   "language": "python",
   "name": "python3"
  },
  "language_info": {
   "codemirror_mode": {
    "name": "ipython",
    "version": 3
   },
   "file_extension": ".py",
   "mimetype": "text/x-python",
   "name": "python",
   "nbconvert_exporter": "python",
   "pygments_lexer": "ipython3",
   "version": "3.11.9"
  }
 },
 "nbformat": 4,
 "nbformat_minor": 2
}
